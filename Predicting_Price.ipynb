{
 "cells": [
  {
   "cell_type": "code",
   "execution_count": null,
   "id": "453a19b6-1a5f-4801-9dc2-9a83cc8928fe",
   "metadata": {},
   "outputs": [],
   "source": []
  }
 ],
 "metadata": {
  "kernelspec": {
   "display_name": "",
   "name": ""
  },
  "language_info": {
   "name": ""
  }
 },
 "nbformat": 4,
 "nbformat_minor": 5
}
